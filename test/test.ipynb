{
 "cells": [
  {
   "cell_type": "markdown",
   "metadata": {},
   "source": [
    "# := test"
   ]
  },
  {
   "cell_type": "code",
   "execution_count": 1,
   "metadata": {},
   "outputs": [
    {
     "name": "stdout",
     "output_type": "stream",
     "text": [
      "keep\n",
      "keep\n",
      "keep\n",
      "keep\n",
      "keep\n",
      "keep\n",
      "get!\n"
     ]
    }
   ],
   "source": [
    "from time import sleep\n",
    "\n",
    "while 1:\n",
    "    if a := input():\n",
    "        print(\"get!\")\n",
    "    else:\n",
    "        print(\"keep\")\n",
    "    sleep(1)"
   ]
  },
  {
   "cell_type": "markdown",
   "metadata": {},
   "source": [
    "# Stack"
   ]
  },
  {
   "cell_type": "code",
   "execution_count": 3,
   "metadata": {},
   "outputs": [
    {
     "name": "stdout",
     "output_type": "stream",
     "text": [
      "1\n"
     ]
    }
   ],
   "source": [
    "l = list()\n",
    "l.append('a')\n",
    "print(len(l))"
   ]
  },
  {
   "cell_type": "markdown",
   "metadata": {},
   "source": [
    "# Wait"
   ]
  },
  {
   "cell_type": "code",
   "execution_count": 1,
   "metadata": {},
   "outputs": [
    {
     "ename": "AttributeError",
     "evalue": "module 'signal' has no attribute 'SIGALRM'",
     "output_type": "error",
     "traceback": [
      "\u001b[1;31m---------------------------------------------------------------------------\u001b[0m",
      "\u001b[1;31mAttributeError\u001b[0m                            Traceback (most recent call last)",
      "Cell \u001b[1;32mIn[1], line 10\u001b[0m\n\u001b[0;32m      6\u001b[0m \u001b[39mdef\u001b[39;00m \u001b[39minterrupted\u001b[39m(signum, frame):\n\u001b[0;32m      7\u001b[0m     \u001b[39mraise\u001b[39;00m InputTimeoutError\n\u001b[1;32m---> 10\u001b[0m signal\u001b[39m.\u001b[39msignal(signal\u001b[39m.\u001b[39;49mSIGALRM, interrupted)\n\u001b[0;32m     11\u001b[0m signal\u001b[39m.\u001b[39malarm(\u001b[39m10\u001b[39m)\n\u001b[0;32m     13\u001b[0m \u001b[39mtry\u001b[39;00m:\n",
      "\u001b[1;31mAttributeError\u001b[0m: module 'signal' has no attribute 'SIGALRM'"
     ]
    }
   ],
   "source": [
    "import signal\n",
    "\n",
    "class InputTimeoutError(Exception):\n",
    "    pass\n",
    "\n",
    "def interrupted(signum, frame):\n",
    "    raise InputTimeoutError\n",
    "\n",
    "\n",
    "signal.signal(signal.SIGALRM, interrupted)\n",
    "signal.alarm(10)\n",
    "\n",
    "try:\n",
    "    name = raw_input('请在10秒内输入你的名字：')\n",
    "except InputTimeoutError:\n",
    "    print('\\ntimeout')\n",
    "    name = '无名'\n",
    "\n",
    "signal.alarm(0)  # 读到输入的话重置信号\n",
    "print('你的名字是：%s' % name)\n",
    "\n"
   ]
  }
 ],
 "metadata": {
  "kernelspec": {
   "display_name": "Python 3",
   "language": "python",
   "name": "python3"
  },
  "language_info": {
   "codemirror_mode": {
    "name": "ipython",
    "version": 3
   },
   "file_extension": ".py",
   "mimetype": "text/x-python",
   "name": "python",
   "nbconvert_exporter": "python",
   "pygments_lexer": "ipython3",
   "version": "3.11.4"
  },
  "orig_nbformat": 4
 },
 "nbformat": 4,
 "nbformat_minor": 2
}
