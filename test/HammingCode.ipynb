{
 "cells": [
  {
   "cell_type": "markdown",
   "metadata": {},
   "source": [
    "# Hamming Code"
   ]
  },
  {
   "cell_type": "code",
   "execution_count": 93,
   "metadata": {},
   "outputs": [],
   "source": [
    "import numpy as np\n",
    "from functools import reduce\n",
    "import operator as op\n",
    "import random\n",
    "\n",
    "def Haming_decode(text):\n",
    "    bits = np.array(list(text), dtype=int)\n",
    "    position = reduce(op.xor, [i for i, bit in enumerate(bits) if bit])\n",
    "    print(position)\n",
    "    bits[position] = str(int(not(int(bits[position]))))\n",
    "    return ''.join(str(bits[i]) for i in (3, 5, 6, 7))\n",
    "\n",
    "\n",
    "\n"
   ]
  },
  {
   "cell_type": "code",
   "execution_count": 94,
   "metadata": {},
   "outputs": [
    {
     "name": "stdout",
     "output_type": "stream",
     "text": [
      "[0, 0, 1, 1, 0, 0, 1]\n",
      "00011001\n",
      "0\n"
     ]
    },
    {
     "data": {
      "text/plain": [
       "'1001'"
      ]
     },
     "execution_count": 94,
     "metadata": {},
     "output_type": "execute_result"
    }
   ],
   "source": [
    "def hamming_encode(data):\n",
    "    # 将输入数据转换为列表形式\n",
    "    data_list = [int(bit) for bit in data]\n",
    "    \n",
    "    # 确定校验位的值\n",
    "    parity1 = (data_list[0] + data_list[1] + data_list[3]) % 2\n",
    "    parity2 = (data_list[0] + data_list[2] + data_list[3]) % 2\n",
    "    parity3 = (data_list[1] + data_list[2] + data_list[3]) % 2\n",
    "    \n",
    "    # 构建编码后的数据\n",
    "    encoded_data = [parity1, parity2, data_list[0], parity3, data_list[1], data_list[2], data_list[3]]\n",
    "    return encoded_data\n",
    "\n",
    "# 测试\n",
    "data_to_encode = \"1001\"  # 4位数据\n",
    "encoded_data = hamming_encode(data_to_encode)\n",
    "print(encoded_data)\n",
    "str_data = '0'+''.join(str(i) for i in encoded_data)\n",
    "print(str_data)\n",
    "Haming_decode(str_data)\n",
    "\n"
   ]
  }
 ],
 "metadata": {
  "kernelspec": {
   "display_name": "Python 3",
   "language": "python",
   "name": "python3"
  },
  "language_info": {
   "codemirror_mode": {
    "name": "ipython",
    "version": 3
   },
   "file_extension": ".py",
   "mimetype": "text/x-python",
   "name": "python",
   "nbconvert_exporter": "python",
   "pygments_lexer": "ipython3",
   "version": "3.11.4"
  },
  "orig_nbformat": 4
 },
 "nbformat": 4,
 "nbformat_minor": 2
}
