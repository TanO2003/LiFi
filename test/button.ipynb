{
 "cells": [
  {
   "cell_type": "markdown",
   "metadata": {},
   "source": [
    "# Button"
   ]
  },
  {
   "cell_type": "code",
   "execution_count": 7,
   "metadata": {},
   "outputs": [
    {
     "name": "stdout",
     "output_type": "stream",
     "text": [
      "run\n",
      "left\n",
      "right\n",
      "stop\n"
     ]
    }
   ],
   "source": [
    "import tkinter as tk\n",
    "\n",
    "def on_button_click(mode):\n",
    "    print(mode)\n",
    "\n",
    "def create_button(root, text, mode):\n",
    "    button = tk.Button(root, text=text, command=lambda: on_button_click(mode))\n",
    "    button.pack(pady=5)\n",
    "\n",
    "if __name__ == \"__main__\":\n",
    "    root = tk.Tk()\n",
    "    root.title(\"控制按钮\")\n",
    "\n",
    "    create_button(root, \"直行\", \"run\")\n",
    "    create_button(root, \"左转\", \"left\")\n",
    "    create_button(root, \"右转\", \"right\")\n",
    "    create_button(root, \"停止\", \"stop\")\n",
    "\n",
    "    root.mainloop()\n"
   ]
  }
 ],
 "metadata": {
  "kernelspec": {
   "display_name": "Python 3",
   "language": "python",
   "name": "python3"
  },
  "language_info": {
   "codemirror_mode": {
    "name": "ipython",
    "version": 3
   },
   "file_extension": ".py",
   "mimetype": "text/x-python",
   "name": "python",
   "nbconvert_exporter": "python",
   "pygments_lexer": "ipython3",
   "version": "3.11.4"
  },
  "orig_nbformat": 4
 },
 "nbformat": 4,
 "nbformat_minor": 2
}
