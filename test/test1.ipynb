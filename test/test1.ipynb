{
 "cells": [
  {
   "cell_type": "code",
   "execution_count": 1,
   "metadata": {},
   "outputs": [],
   "source": [
    "from threading import Thread\n",
    "from time import sleep,time\n",
    "\n",
    "\n",
    "def func1():\n",
    "    for i in range(10):\n",
    "        t1 = time()\n",
    "        sleep(0.005)\n",
    "        t2 = time()\n",
    "        print(t2-t1)\n",
    "    return\n",
    "\n",
    "def func2():\n",
    "    sleep(1)\n",
    "    return\n",
    "\n",
    "t1 = Thread(target=func1)\n",
    "t2 = Thread(target=func2)\n"
   ]
  },
  {
   "cell_type": "markdown",
   "metadata": {},
   "source": [
    "## 单线程"
   ]
  },
  {
   "cell_type": "code",
   "execution_count": 3,
   "metadata": {},
   "outputs": [
    {
     "name": "stdout",
     "output_type": "stream",
     "text": [
      "0.0060422420501708984\n",
      "0.005637168884277344\n",
      "0.005351543426513672\n",
      "0.005583047866821289\n",
      "0.005574226379394531\n",
      "0.005572080612182617\n",
      "0.005597829818725586\n",
      "0.005700588226318359\n",
      "0.005235910415649414\n",
      "0.0053043365478515625\n"
     ]
    }
   ],
   "source": [
    "\n",
    "t1.start()\n",
    "t1.join()\n"
   ]
  },
  {
   "cell_type": "markdown",
   "metadata": {},
   "source": [
    "## 多线程"
   ]
  },
  {
   "cell_type": "code",
   "execution_count": 2,
   "metadata": {},
   "outputs": [
    {
     "name": "stdout",
     "output_type": "stream",
     "text": [
      "0.00551605224609375\n",
      "0.00608515739440918\n",
      "0.005104780197143555\n",
      "0.005573749542236328\n",
      "0.005650997161865234\n",
      "0.005526304244995117\n",
      "0.005567073822021484\n",
      "0.005235433578491211\n",
      "0.005469322204589844\n",
      "0.005570173263549805\n"
     ]
    }
   ],
   "source": [
    "t1.start()\n",
    "t2.start()\n",
    "t1.join()\n",
    "t2.join()\n"
   ]
  }
 ],
 "metadata": {
  "kernelspec": {
   "display_name": "Python 3",
   "language": "python",
   "name": "python3"
  },
  "language_info": {
   "codemirror_mode": {
    "name": "ipython",
    "version": 3
   },
   "file_extension": ".py",
   "mimetype": "text/x-python",
   "name": "python",
   "nbconvert_exporter": "python",
   "pygments_lexer": "ipython3",
   "version": "3.11.4"
  },
  "orig_nbformat": 4
 },
 "nbformat": 4,
 "nbformat_minor": 2
}
